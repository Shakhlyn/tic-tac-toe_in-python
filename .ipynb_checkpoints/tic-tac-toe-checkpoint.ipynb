{
 "cells": [
  {
   "cell_type": "code",
   "execution_count": 1,
   "id": "4ac12c05",
   "metadata": {},
   "outputs": [],
   "source": [
    "#1# TIC_TAC_TOE GAME: (Process:)\n",
    "\n",
    "#2# Greetings!!!\n",
    "\n",
    "#3# P1: Select a symbol  | with validation\n",
    "    # P2 will get symbol automatically\n",
    "\n",
    "#4# Display game_board(board)\n",
    "\n",
    "\n",
    "#5# P1: Select a position | with validation\n",
    "\n",
    "    ##check whether this position is empty: if not ask again to enter input\n",
    "\n",
    "#6# update_game_board(board, position, symbol)\n",
    "\n",
    "#7# Display game_board(board)\n",
    "\n",
    "#8# Check whether this player won\n",
    "\n",
    "#9# check whether the board is full by checking empty[5-a step] (with for loop): if full 'Game is drawn'\n",
    "\n",
    "\n",
    "#10# Player 2: Repeat from 4 to 9\n",
    "\n",
    "\n",
    "#11# if won or tie, replay()\n",
    "\n",
    "#12#\n",
    "\n",
    "#13#\n",
    "\n",
    "#14#\n",
    "\n",
    "#15#\n",
    "\n",
    "#16#\n",
    "\n",
    "#17#\n",
    "\n",
    "#18#\n",
    "\n",
    "#19#\n",
    "\n",
    "#20#\n",
    "\n",
    "#21#\n",
    "\n",
    "#22#\n",
    "\n",
    "#23#\n",
    "\n",
    "#24#\n",
    "\n",
    "#25#\n",
    "\n",
    "#26#\n",
    "\n",
    "#27#\n",
    "\n",
    "#28#\n",
    "\n",
    "#\n",
    "\n",
    "#\n",
    "\n",
    "#\n",
    "\n",
    "\n",
    "\n"
   ]
  },
  {
   "cell_type": "code",
   "execution_count": 2,
   "id": "af5872ad",
   "metadata": {},
   "outputs": [],
   "source": [
    "from IPython.display import clear_output"
   ]
  },
  {
   "cell_type": "code",
   "execution_count": 3,
   "id": "5f731f3a",
   "metadata": {},
   "outputs": [],
   "source": [
    "def greetings():\n",
    "    print(\"Hello, Humans! Welcome to Tic Tac Toe game.\")"
   ]
  },
  {
   "cell_type": "code",
   "execution_count": 22,
   "id": "cebab9c4",
   "metadata": {},
   "outputs": [],
   "source": [
    "def choose_symbol():\n",
    "    p1_symbol = \" \"\n",
    "    p2_symbol = \" \"\n",
    "    \n",
    "#     p1_symbol = input(\"Please choose 'x' or 'o' to start: \").lower()\n",
    "    symbol = input(\"Please choose 'x' or 'o' to start: \").lower()\n",
    "    \n",
    "    while symbol not in ['x', 'o']:\n",
    "        symbol = input(\"Please choose 'x' or 'o' to start: \").lower()\n",
    "    if symbol in ['x', 'o']:\n",
    "        p1_symbol = symbol\n",
    "        \n",
    "        if p1_symbol == 'x':\n",
    "            p2_symbol = 'o'\n",
    "        else:\n",
    "            p2_symbol = 'x'\n",
    "    return p1_symbol, p2_symbol"
   ]
  },
  {
   "cell_type": "code",
   "execution_count": 23,
   "id": "0fcca2c7",
   "metadata": {},
   "outputs": [],
   "source": [
    "import random\n",
    "\n",
    "def choose_player():\n",
    "    if random.randint(1,2) == 1:\n",
    "        return \"Player 1\"\n",
    "    return \"Player 2\"\n",
    "    "
   ]
  },
  {
   "cell_type": "code",
   "execution_count": 24,
   "id": "e50fdefe",
   "metadata": {},
   "outputs": [],
   "source": [
    "# game_on = False  # Initialize game_on as False . it must be declared inside of the main logic\n",
    "\n",
    "def play_game():\n",
    "    global game_on\n",
    "    \n",
    "    while True:\n",
    "        # Ask the user if they are ready to play\n",
    "        ready = input(\"Are you ready to play? Enter 'yes' or 'no': \").lower()\n",
    "        if ready == 'yes':\n",
    "            game_on = True\n",
    "            break\n",
    "        elif ready == 'no':\n",
    "            game_on = False\n",
    "            clear_output()\n",
    "            print(\"Okay, see you next time!\")\n",
    "            break\n",
    "        else:\n",
    "            clear_output()\n",
    "            print(\"Invalid input. Please enter 'yes' or 'no'.\")\n",
    "    return game_on\n",
    "    \n",
    "# def printing(game_on):\n",
    "#     if game_on == True :\n",
    "#         clear_output()\n",
    "#         print('game is on')"
   ]
  },
  {
   "cell_type": "code",
   "execution_count": 25,
   "id": "232dcfe0",
   "metadata": {},
   "outputs": [],
   "source": [
    "#Display Game Board:\n",
    "board = ['n/a',\" \", \" \", \" \", \" \", \" \", \" \", \" \", \" \", \" \"]\n",
    "\n",
    "def display_board(board):\n",
    "    print(\"Here is the Game Board:\")\n",
    "    print(\"                              \")\n",
    "    \n",
    "    print(f\"| {board[7]} | {board[8]} | {board[9]} |  \")\n",
    "    print(\"-------------\")\n",
    "    print(f\"| {board[4]} | {board[5]} | {board[6]} |  \")\n",
    "    print(\"-------------\")\n",
    "    print(f\"| {board[1]} | {board[2]} | {board[3]} |  \")"
   ]
  },
  {
   "cell_type": "code",
   "execution_count": 26,
   "id": "1f6be4ea",
   "metadata": {},
   "outputs": [],
   "source": [
    "#Taking position from player input:\n",
    "\n",
    "def player_input_position():\n",
    "    \n",
    "    desired_value = range(1, 10)\n",
    "    position = input(\"Please, enter a number between 1 to 9 to choose a postion that you want to mark: \")\n",
    "    \n",
    "    while position.isdigit() == False or int(position) not in desired_value:\n",
    "        #checking whether str or int\n",
    "        if position.isdigit() == False:\n",
    "            print(\"Ooops!!! You didn't enter an integer.\")\n",
    "            position = input(\"Please enter an integer: \")\n",
    "        \n",
    "        else:\n",
    "#         checking if entered value in outside of the rnage:\n",
    "            print(f\"Your entered position, {position}, is not between 1 and 9.\")\n",
    "            position = input(\"Please, enter a number between 1 and 9 to choose a postion that you want to mark: \")\n",
    "            \n",
    "    return int(position)"
   ]
  },
  {
   "cell_type": "code",
   "execution_count": 27,
   "id": "1040907c",
   "metadata": {},
   "outputs": [],
   "source": [
    "#Update the board:\n",
    "\n",
    "def update_game_board(board, position, symbol):\n",
    "    board[position] = symbol"
   ]
  },
  {
   "cell_type": "code",
   "execution_count": 28,
   "id": "82e6c07a",
   "metadata": {},
   "outputs": [],
   "source": [
    "def replay_game():\n",
    "    reply = input(\"Do you want to play again? 'Y' or 'N' \").lower()\n",
    "    if reply == 'y':\n",
    "        return True\n",
    "    return False"
   ]
  },
  {
   "cell_type": "code",
   "execution_count": null,
   "id": "ac73ca42",
   "metadata": {},
   "outputs": [],
   "source": []
  },
  {
   "cell_type": "code",
   "execution_count": 29,
   "id": "1bc8a6f2",
   "metadata": {},
   "outputs": [
    {
     "name": "stdout",
     "output_type": "stream",
     "text": [
      "Hello, Humans! Welcome to Tic Tac Toe game.\n",
      "Player 1 will go first\n",
      "Please choose 'x' or 'o' to start: x\n",
      "You, Player 1, got x\n"
     ]
    }
   ],
   "source": [
    "# TIC_TAC_TOE GAME: (Process:)\n",
    "\n",
    "# Greetings!!!\n",
    "greetings()\n",
    "\n",
    "while True:\n",
    "    #reset the board\n",
    "    board = ['n/a',\" \", \" \", \" \", \" \", \" \", \" \", \" \", \" \", \" \"]\n",
    "    player = choose_player()\n",
    "    print(f\"{player} will go first\")\n",
    "    \n",
    "# P1: Select a symbol  | with validation\n",
    "    symbol = choose_symbol()\n",
    "    print(f\"You, {player}, got {symbol[0]}\")\n",
    "#     break\n",
    "    game_on = False  # Initialize game_on as False . it must be declared inside of the main logic\n",
    "\n",
    "    play_game()\n",
    "\n",
    "    # P2 will get symbol automatically\n",
    "\n",
    "# Display game_board(board)\n",
    "\n",
    "\n",
    "# P1: Select a position | with validation\n",
    "\n",
    "#check whether this position is empty: if not ask again to enter input\n",
    "\n",
    "# update_game_board(board, position, symbol)\n",
    "\n",
    "# Display game_board(board)\n",
    "\n",
    "# Check whether this player won\n",
    "\n",
    "# check whether the board is full by checking empty[5-a step] (with for loop): if full 'Game is drawn'\n",
    "\n",
    "\n",
    "# Player 2: Repeat from 4 to 9\n",
    "\n",
    "\n",
    "# if won or tie, replay()\n",
    "\n",
    "\n",
    "\n",
    "\n",
    "# while True:\n",
    "#     print(\"new\")\n",
    "    \n",
    "#     if not replay_game():   #statement checks if the return value of the replay_game() function is False.\n",
    "#         break"
   ]
  },
  {
   "cell_type": "code",
   "execution_count": null,
   "id": "714d2ede",
   "metadata": {},
   "outputs": [],
   "source": []
  },
  {
   "cell_type": "code",
   "execution_count": null,
   "id": "0bd29eaa",
   "metadata": {},
   "outputs": [],
   "source": []
  },
  {
   "cell_type": "code",
   "execution_count": 19,
   "id": "952d380f",
   "metadata": {},
   "outputs": [],
   "source": []
  },
  {
   "cell_type": "code",
   "execution_count": 20,
   "id": "7d7bfa86",
   "metadata": {},
   "outputs": [
    {
     "name": "stdout",
     "output_type": "stream",
     "text": [
      "Okay, see you next time!\n"
     ]
    }
   ],
   "source": [
    "play_game()\n",
    "printing(game_on)"
   ]
  },
  {
   "cell_type": "code",
   "execution_count": null,
   "id": "2a8e4515",
   "metadata": {},
   "outputs": [],
   "source": []
  }
 ],
 "metadata": {
  "kernelspec": {
   "display_name": "Python 3 (ipykernel)",
   "language": "python",
   "name": "python3"
  },
  "language_info": {
   "codemirror_mode": {
    "name": "ipython",
    "version": 3
   },
   "file_extension": ".py",
   "mimetype": "text/x-python",
   "name": "python",
   "nbconvert_exporter": "python",
   "pygments_lexer": "ipython3",
   "version": "3.9.7"
  },
  "varInspector": {
   "cols": {
    "lenName": 16,
    "lenType": 16,
    "lenVar": 40
   },
   "kernels_config": {
    "python": {
     "delete_cmd_postfix": "",
     "delete_cmd_prefix": "del ",
     "library": "var_list.py",
     "varRefreshCmd": "print(var_dic_list())"
    },
    "r": {
     "delete_cmd_postfix": ") ",
     "delete_cmd_prefix": "rm(",
     "library": "var_list.r",
     "varRefreshCmd": "cat(var_dic_list()) "
    }
   },
   "types_to_exclude": [
    "module",
    "function",
    "builtin_function_or_method",
    "instance",
    "_Feature"
   ],
   "window_display": false
  }
 },
 "nbformat": 4,
 "nbformat_minor": 5
}
