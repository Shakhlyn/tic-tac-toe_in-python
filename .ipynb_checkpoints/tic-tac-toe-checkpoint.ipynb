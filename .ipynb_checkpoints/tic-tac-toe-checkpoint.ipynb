{
 "cells": [
  {
   "cell_type": "code",
   "execution_count": 7,
   "id": "4ac12c05",
   "metadata": {},
   "outputs": [],
   "source": [
    "#1# TIC_TAC_TOE GAME: (Process:)\n",
    "\n",
    "#2# Greetings!!!\n",
    "\n",
    "#3# P1: Select a symbol  | with validation\n",
    "    # P2 will get symbol automatically\n",
    "\n",
    "#4# Display game_board(board)\n",
    "\n",
    "\n",
    "#5# P1: Select a position | with validation\n",
    "\n",
    "#6# update_game_board(board, position, symbol)\n",
    "\n",
    "#7# Display game_board(board)\n",
    "\n",
    "\n",
    "#8# P2: Select a position | with validation\n",
    "\n",
    "#9# update_game_board(board, position, symbol)\n",
    "\n",
    "#10# Display game_board(board)\n",
    "\n",
    "\n",
    "#11# Repeat from step no 5 to 10\n",
    "\n",
    "#12#\n",
    "\n",
    "#13#\n",
    "\n",
    "#14#\n",
    "\n",
    "#15#\n",
    "\n",
    "#16#\n",
    "\n",
    "#17#\n",
    "\n",
    "#18#\n",
    "\n",
    "#19#\n",
    "\n",
    "#20#\n",
    "\n",
    "#21#\n",
    "\n",
    "#22#\n",
    "\n",
    "#23#\n",
    "\n",
    "#24#\n",
    "\n",
    "#25#\n",
    "\n",
    "#26#\n",
    "\n",
    "#27#\n",
    "\n",
    "#28#\n",
    "\n",
    "#\n",
    "\n",
    "#\n",
    "\n",
    "#\n",
    "\n",
    "\n",
    "\n"
   ]
  },
  {
   "cell_type": "code",
   "execution_count": 38,
   "id": "af5872ad",
   "metadata": {},
   "outputs": [],
   "source": [
    "from IPython.display import clear_output"
   ]
  },
  {
   "cell_type": "code",
   "execution_count": 39,
   "id": "5f731f3a",
   "metadata": {},
   "outputs": [],
   "source": [
    "def greetings():\n",
    "    print(\"Hello, player1! Good to have you. Best of luck.\")"
   ]
  },
  {
   "cell_type": "code",
   "execution_count": 40,
   "id": "cebab9c4",
   "metadata": {},
   "outputs": [],
   "source": [
    "def choose_symbol():\n",
    "    p1_symbol = \" \"\n",
    "    p2_symbol = \" \"\n",
    "    \n",
    "#     p1_symbol = input(\"Please choose 'x' or 'o' to start: \").lower()\n",
    "    symbol = input(\"Please choose 'x' or 'o' to start: \").lower()\n",
    "    \n",
    "    while symbol not in ['x', 'o']:\n",
    "        symbol = input(\"Please choose 'x' or 'o' to start: \").lower()\n",
    "    if symbol in ['x', 'o']:\n",
    "        p1_symbol = symbol\n",
    "        \n",
    "        if p1_symbol == 'x':\n",
    "            p2_symbol = 'o'\n",
    "        else:\n",
    "            p2_symbol = 'x'\n",
    "    return p1_symbol, p2_symbol"
   ]
  },
  {
   "cell_type": "code",
   "execution_count": 41,
   "id": "232dcfe0",
   "metadata": {},
   "outputs": [],
   "source": [
    "#Display Game Board:\n",
    "board = ['n/a',\" \", \" \", \" \", \" \", \" \", \" \", \" \", \" \", \" \"]\n",
    "\n",
    "def display_board(board):\n",
    "    print(\"Here is the Game Board:\")\n",
    "    print(\"                              \")\n",
    "    \n",
    "    print(f\"| {board[7]} | {board[8]} | {board[9]} |  \")\n",
    "    print(\"-------------\")\n",
    "    print(f\"| {board[4]} | {board[5]} | {board[6]} |  \")\n",
    "    print(\"-------------\")\n",
    "    print(f\"| {board[1]} | {board[2]} | {board[3]} |  \")"
   ]
  }
 ],
 "metadata": {
  "kernelspec": {
   "display_name": "Python 3 (ipykernel)",
   "language": "python",
   "name": "python3"
  },
  "language_info": {
   "codemirror_mode": {
    "name": "ipython",
    "version": 3
   },
   "file_extension": ".py",
   "mimetype": "text/x-python",
   "name": "python",
   "nbconvert_exporter": "python",
   "pygments_lexer": "ipython3",
   "version": "3.9.7"
  },
  "varInspector": {
   "cols": {
    "lenName": 16,
    "lenType": 16,
    "lenVar": 40
   },
   "kernels_config": {
    "python": {
     "delete_cmd_postfix": "",
     "delete_cmd_prefix": "del ",
     "library": "var_list.py",
     "varRefreshCmd": "print(var_dic_list())"
    },
    "r": {
     "delete_cmd_postfix": ") ",
     "delete_cmd_prefix": "rm(",
     "library": "var_list.r",
     "varRefreshCmd": "cat(var_dic_list()) "
    }
   },
   "types_to_exclude": [
    "module",
    "function",
    "builtin_function_or_method",
    "instance",
    "_Feature"
   ],
   "window_display": false
  }
 },
 "nbformat": 4,
 "nbformat_minor": 5
}
