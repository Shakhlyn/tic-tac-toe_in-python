{
 "cells": [
  {
   "cell_type": "code",
   "execution_count": 1,
   "id": "af5872ad",
   "metadata": {},
   "outputs": [],
   "source": [
    "from IPython.display import clear_output"
   ]
  },
  {
   "cell_type": "code",
   "execution_count": 2,
   "id": "5f731f3a",
   "metadata": {},
   "outputs": [],
   "source": [
    "def greetings():\n",
    "    print(\"Hello, Humans! Welcome to Tic Tac Toe game.\")"
   ]
  },
  {
   "cell_type": "code",
   "execution_count": 3,
   "id": "cebab9c4",
   "metadata": {},
   "outputs": [],
   "source": [
    "def choose_symbol():\n",
    "    p1_symbol = \" \"\n",
    "    p2_symbol = \" \"\n",
    "    \n",
    "#     p1_symbol = input(\"Please choose 'x' or 'o' to start: \").lower()\n",
    "    symbol = input(\"Please choose 'x' or 'o' to start: \").lower()\n",
    "    \n",
    "    while symbol not in ['x', 'o']:\n",
    "        symbol = input(\"Please choose 'x' or 'o' to start: \").lower()\n",
    "    if symbol in ['x', 'o']:\n",
    "        p1_symbol = symbol\n",
    "        \n",
    "        if p1_symbol == 'x':\n",
    "            p2_symbol = 'o'\n",
    "        else:\n",
    "            p2_symbol = 'x'\n",
    "    return p1_symbol, p2_symbol"
   ]
  },
  {
   "cell_type": "code",
   "execution_count": 4,
   "id": "0fcca2c7",
   "metadata": {},
   "outputs": [],
   "source": [
    "import random\n",
    "\n",
    "def choose_player():\n",
    "    if random.randint(1,2) == 1:\n",
    "        return \"Player 1\"\n",
    "    return \"Player 2\"\n",
    "    "
   ]
  },
  {
   "cell_type": "code",
   "execution_count": 5,
   "id": "232dcfe0",
   "metadata": {},
   "outputs": [],
   "source": [
    "#Display Game Board:\n",
    "# board = ['n/a',\" \", \" \", \" \", \" \", \" \", \" \", \" \", \" \", \" \"]\n",
    "\n",
    "def display_board(board):\n",
    "    print(\"Here is the Game Board:\")\n",
    "    print(\"                              \")\n",
    "    \n",
    "    print(f\"| {board[7]} | {board[8]} | {board[9]} |  \")\n",
    "    print(\"-------------\")\n",
    "    print(f\"| {board[4]} | {board[5]} | {board[6]} |  \")\n",
    "    print(\"-------------\")\n",
    "    print(f\"| {board[1]} | {board[2]} | {board[3]} |  \")"
   ]
  },
  {
   "cell_type": "code",
   "execution_count": 6,
   "id": "1f6be4ea",
   "metadata": {},
   "outputs": [],
   "source": [
    "#Taking position from player input:\n",
    "\n",
    "def player_input_position():\n",
    "    \n",
    "    desired_value = range(1, 10)\n",
    "    position = input(\"Please, enter a number between 1 to 9 to choose a postion that you want to mark: \")\n",
    "    \n",
    "    while position.isdigit() == False or int(position) not in desired_value:\n",
    "        #checking whether str or int\n",
    "        if position.isdigit() == False:\n",
    "            print(\"Ooops!!! You didn't enter an integer.\")\n",
    "            position = input(\"Please enter an integer: \")\n",
    "        \n",
    "        else:\n",
    "#         checking if entered value in outside of the rnage:\n",
    "            print(f\"Your entered position, {position}, is not between 1 and 9.\")\n",
    "            position = input(\"Please, enter a number between 1 and 9 to choose a postion that you want to mark: \")\n",
    "            \n",
    "    return int(position)"
   ]
  },
  {
   "cell_type": "code",
   "execution_count": 7,
   "id": "1040907c",
   "metadata": {},
   "outputs": [],
   "source": [
    "#Update the board:\n",
    "\n",
    "def update_game_board(board, position, symbol):\n",
    "    board[position] = symbol[0]"
   ]
  },
  {
   "cell_type": "code",
   "execution_count": 8,
   "id": "82e6c07a",
   "metadata": {},
   "outputs": [],
   "source": [
    "def replay_game():\n",
    "    reply = input(\"Do you want to play again? 'Y' or 'N' \").lower()\n",
    "    if reply == 'y':\n",
    "        return True\n",
    "    return False"
   ]
  },
  {
   "cell_type": "code",
   "execution_count": 9,
   "id": "f0c192e3",
   "metadata": {},
   "outputs": [],
   "source": [
    "def win_check(board, symbol):\n",
    "    \n",
    "    return (\n",
    "#     rows\n",
    "    (board[1] == board[2] == board[3] == symbol) or\n",
    "    (board[4] == board[5] == board[6] == symbol) or\n",
    "    (board[7] == board[8] == board[9] == symbol) or\n",
    "#     columns:\n",
    "    (board[1] == board[4] == board[7] == symbol) or\n",
    "    (board[2] == board[5] == board[8] == symbol) or\n",
    "    (board[3] == board[6] == board[9] == symbol) or\n",
    "#     diagonals:\n",
    "    (board[1] == board[5] == board[9] == symbol) or\n",
    "    (board[3] == board[5] == board[7] == symbol) \n",
    "    )"
   ]
  },
  {
   "cell_type": "code",
   "execution_count": 10,
   "id": "49645252",
   "metadata": {},
   "outputs": [],
   "source": [
    "def space_check(board, position):\n",
    "    \n",
    "    return board[position] == ' '"
   ]
  },
  {
   "cell_type": "code",
   "execution_count": 11,
   "id": "0bd29eaa",
   "metadata": {},
   "outputs": [],
   "source": [
    "def full_board_check(board):\n",
    "    for i in range(1,10):\n",
    "        if space_check(board, i):\n",
    "            return False\n",
    "    return True"
   ]
  },
  {
   "cell_type": "code",
   "execution_count": null,
   "id": "346cb9a2",
   "metadata": {},
   "outputs": [],
   "source": []
  },
  {
   "cell_type": "code",
   "execution_count": 12,
   "id": "8ecc2fb7",
   "metadata": {},
   "outputs": [
    {
     "name": "stdout",
     "output_type": "stream",
     "text": [
      "Thank you for playing!\n"
     ]
    }
   ],
   "source": [
    "greetings()\n",
    "\n",
    "while True:\n",
    "    board = ['n/a',\" \", \" \", \" \", \" \", \" \", \" \", \" \", \" \", \" \"]\n",
    "    \n",
    "    \n",
    "    p1_symbol, p2_symbol = choose_symbol()\n",
    "    \n",
    "    \n",
    "    player = choose_player()\n",
    "    print(f\"{player} will enter to choose his desired position!!!\")\n",
    "    \n",
    "    \n",
    "    play_game = input(\"Ready? Enter 'Yes' to to play, or 'No' to end quite the game\")\n",
    "    \n",
    "    if play_game.lower() == 'yes':\n",
    "        game_on = True\n",
    "    else: \n",
    "        game_on = False\n",
    "        \n",
    "        \n",
    "    while game_on:\n",
    "        clear_output()\n",
    "        \n",
    "        if player == 'Player 1':\n",
    "            display_board(board)\n",
    "            position = player_input_position()\n",
    "            update_game_board(board, position, p1_symbol)\n",
    "            \n",
    "            if win_check(board, p1_symbol):\n",
    "                display_board(board)\n",
    "                print(\"Congratulations!!! You won the game.\")\n",
    "                game_on = False\n",
    "            else:\n",
    "                if full_board_check(board):\n",
    "                    display_board(board)\n",
    "                    print(\"The game is drawn\")\n",
    "                    break\n",
    "                else:\n",
    "                    player = 'Player 2'\n",
    "                    \n",
    "                    \n",
    "        else:\n",
    "#             for player 2\n",
    "            display_board(board)\n",
    "            position = player_input_position()\n",
    "            update_game_board(board, position, p2_symbol)\n",
    "            \n",
    "            if win_check(board, p2_symbol):\n",
    "                display_board(board)\n",
    "                print(\"Congratulations!!! Player 2 won the game.\")\n",
    "                game_on = False\n",
    "            else:\n",
    "                if full_board_check(board):\n",
    "                    display_board(board)\n",
    "                    print(\"The game is drawn\")\n",
    "                    break\n",
    "                else:\n",
    "                    player = 'Player 1'\n",
    "                    \n",
    "            \n",
    "    if not replay_game():\n",
    "        clear_output()\n",
    "        print('Thank you for playing!')\n",
    "        break"
   ]
  }
 ],
 "metadata": {
  "kernelspec": {
   "display_name": "Python 3 (ipykernel)",
   "language": "python",
   "name": "python3"
  },
  "language_info": {
   "codemirror_mode": {
    "name": "ipython",
    "version": 3
   },
   "file_extension": ".py",
   "mimetype": "text/x-python",
   "name": "python",
   "nbconvert_exporter": "python",
   "pygments_lexer": "ipython3",
   "version": "3.9.7"
  },
  "varInspector": {
   "cols": {
    "lenName": 16,
    "lenType": 16,
    "lenVar": 40
   },
   "kernels_config": {
    "python": {
     "delete_cmd_postfix": "",
     "delete_cmd_prefix": "del ",
     "library": "var_list.py",
     "varRefreshCmd": "print(var_dic_list())"
    },
    "r": {
     "delete_cmd_postfix": ") ",
     "delete_cmd_prefix": "rm(",
     "library": "var_list.r",
     "varRefreshCmd": "cat(var_dic_list()) "
    }
   },
   "types_to_exclude": [
    "module",
    "function",
    "builtin_function_or_method",
    "instance",
    "_Feature"
   ],
   "window_display": false
  }
 },
 "nbformat": 4,
 "nbformat_minor": 5
}
