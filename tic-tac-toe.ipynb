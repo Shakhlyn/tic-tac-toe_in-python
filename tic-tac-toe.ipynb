{
 "cells": [
  {
   "cell_type": "code",
   "execution_count": 1,
   "id": "af5872ad",
   "metadata": {},
   "outputs": [],
   "source": [
    "from IPython.display import clear_output"
   ]
  },
  {
   "cell_type": "code",
   "execution_count": 2,
   "id": "5f731f3a",
   "metadata": {},
   "outputs": [],
   "source": [
    "def greetings():\n",
    "    print(\"Hello, Humans! Welcome to Tic Tac Toe game.\")"
   ]
  },
  {
   "cell_type": "code",
   "execution_count": 3,
   "id": "cebab9c4",
   "metadata": {},
   "outputs": [],
   "source": [
    "def choose_symbol():\n",
    "    p1_symbol = \" \"\n",
    "    p2_symbol = \" \"\n",
    "    \n",
    "    symbol = input(\"Please choose 'x' or 'o' to start: \").lower()\n",
    "    \n",
    "    while symbol not in ['x', 'o']:\n",
    "        symbol = input(\"Please choose 'x' or 'o' to start: \").lower()\n",
    "    if symbol in ['x', 'o']:\n",
    "        p1_symbol = symbol\n",
    "        \n",
    "        if p1_symbol == 'x':\n",
    "            p2_symbol = 'o'\n",
    "        else:\n",
    "            p2_symbol = 'x'\n",
    "    return p1_symbol, p2_symbol"
   ]
  },
  {
   "cell_type": "code",
   "execution_count": 4,
   "id": "0fcca2c7",
   "metadata": {},
   "outputs": [],
   "source": [
    "import random\n",
    "\n",
    "def choose_player():\n",
    "    if random.randint(1,2) == 1:\n",
    "        return \"Player 1\"\n",
    "    return \"Player 2\"\n",
    "    "
   ]
  },
  {
   "cell_type": "code",
   "execution_count": 5,
   "id": "fd219046",
   "metadata": {},
   "outputs": [],
   "source": [
    "# def play_game():\n",
    "\n",
    "def play_game():\n",
    "    game_on = True\n",
    "\n",
    "    while True:\n",
    "        # Ask the user if they are ready to play\n",
    "        ready = input(\"Are you ready to play? Enter 'yes' or 'no': \").lower()\n",
    "        if ready == 'yes':\n",
    "            game_on = True\n",
    "            break\n",
    "        elif ready == 'no':\n",
    "            game_on = False\n",
    "            clear_output()\n",
    "            print(\"Okay, see you next time!\")\n",
    "            break\n",
    "        else:\n",
    "            clear_output()\n",
    "            print(\"Invalid input. Please enter 'yes' or 'no'.\")\n",
    "            \n",
    "    return game_on"
   ]
  },
  {
   "cell_type": "code",
   "execution_count": 6,
   "id": "5db7f56e",
   "metadata": {},
   "outputs": [],
   "source": [
    "def take_input_and_update(board, symbol, player):\n",
    "    display_board(board)\n",
    "    position = player_input_position(board)\n",
    "    update_game_board(board, position, symbol)\n",
    "    \n",
    "    if win_check(board, symbol):\n",
    "        display_board(board)\n",
    "        print(f\"Congratulations!!! {player} won the game.\")\n",
    "        return 'win'\n",
    "    else:\n",
    "        if full_board_check(board):\n",
    "            display_board(board)\n",
    "            print(\"The game is drawn\")\n",
    "            return 'draw'\n",
    "        else:\n",
    "            return None"
   ]
  },
  {
   "cell_type": "code",
   "execution_count": 7,
   "id": "6f630612",
   "metadata": {},
   "outputs": [],
   "source": [
    "#Display Game Board:\n",
    "# board = ['n/a',\" \", \" \", \" \", \" \", \" \", \" \", \" \", \" \", \" \"]\n",
    "\n",
    "def display_board(board):\n",
    "    print(\"Here is the Game Board:\")\n",
    "    print(\"                              \")\n",
    "    \n",
    "    print(f\"| {board[7]} | {board[8]} | {board[9]} |  \")\n",
    "    print(\"-------------\")\n",
    "    print(f\"| {board[4]} | {board[5]} | {board[6]} |  \")\n",
    "    print(\"-------------\")\n",
    "    print(f\"| {board[1]} | {board[2]} | {board[3]} |  \")"
   ]
  },
  {
   "cell_type": "code",
   "execution_count": 8,
   "id": "7f238f35",
   "metadata": {},
   "outputs": [],
   "source": [
    "#Taking position from player input:\n",
    "\n",
    "def player_input_position(board):\n",
    "    desired_value = range(1, 10)\n",
    "    \n",
    "    while True:\n",
    "        position = input(\"Please enter a number between 1 to 9 to choose a position that you want to mark: \")\n",
    "        \n",
    "        if not position.isdigit():\n",
    "            print(\"Oops! You didn't enter an integer.\")\n",
    "        elif int(position) not in desired_value:\n",
    "            print(\"Your entered position is not between 1 and 9.\")\n",
    "#         elif not is_position_empty(board, int(position)):\n",
    "        elif not space_check(board, int(position)):\n",
    "            print(\"Position is already taken. Please choose an empty position.\")\n",
    "        else:\n",
    "            return int(position)"
   ]
  },
  {
   "cell_type": "code",
   "execution_count": 9,
   "id": "17ccf2cc",
   "metadata": {},
   "outputs": [],
   "source": [
    "#Update the board:\n",
    "\n",
    "def update_game_board(board, position, symbol):\n",
    "    \n",
    "    board[position] = symbol[0]"
   ]
  },
  {
   "cell_type": "code",
   "execution_count": 10,
   "id": "5dde48c5",
   "metadata": {},
   "outputs": [],
   "source": [
    "def win_check(board, symbol):\n",
    "    \n",
    "    return (\n",
    "#     rows\n",
    "    (board[1] == board[2] == board[3] == symbol) or\n",
    "    (board[4] == board[5] == board[6] == symbol) or\n",
    "    (board[7] == board[8] == board[9] == symbol) or\n",
    "#     columns:\n",
    "    (board[1] == board[4] == board[7] == symbol) or\n",
    "    (board[2] == board[5] == board[8] == symbol) or\n",
    "    (board[3] == board[6] == board[9] == symbol) or\n",
    "#     diagonals:\n",
    "    (board[1] == board[5] == board[9] == symbol) or\n",
    "    (board[3] == board[5] == board[7] == symbol) \n",
    "    )"
   ]
  },
  {
   "cell_type": "code",
   "execution_count": 11,
   "id": "50816ab1",
   "metadata": {},
   "outputs": [],
   "source": [
    "def full_board_check(board):\n",
    "    for i in range(1,10):\n",
    "        if space_check(board, i):\n",
    "            return False\n",
    "    return True"
   ]
  },
  {
   "cell_type": "code",
   "execution_count": 12,
   "id": "478ecb9f",
   "metadata": {},
   "outputs": [],
   "source": [
    "def space_check(board, position):\n",
    "    \n",
    "    return board[position] == ' '"
   ]
  },
  {
   "cell_type": "code",
   "execution_count": 13,
   "id": "841b121f",
   "metadata": {},
   "outputs": [],
   "source": [
    "def change_player(returns, player, game_on):\n",
    "    if returns == 'win' or returns == 'draw':\n",
    "        game_on = False\n",
    "    else:\n",
    "        if player == \"Player 1\":\n",
    "            player = \"Player 2\"\n",
    "\n",
    "        else:\n",
    "            player = \"Player 1\"\n",
    "\n",
    "    return player, game_on"
   ]
  },
  {
   "cell_type": "code",
   "execution_count": 14,
   "id": "486b311f",
   "metadata": {},
   "outputs": [],
   "source": [
    "def replay_game():\n",
    "    reply = input(\"Do you want to play again? 'Y' or 'N' \").lower()\n",
    "    while reply not in ['y', 'n']:\n",
    "        reply = input(\"Please enter either 'Y' or 'N'.\")\n",
    "        \n",
    "    if reply == 'y':\n",
    "        return True\n",
    "    if reply == 'n':\n",
    "        return False"
   ]
  },
  {
   "cell_type": "code",
   "execution_count": null,
   "id": "d4744899",
   "metadata": {},
   "outputs": [
    {
     "name": "stdout",
     "output_type": "stream",
     "text": [
      "Here is the Game Board:\n",
      "                              \n",
      "|   |   |   |  \n",
      "-------------\n",
      "|   | x |   |  \n",
      "-------------\n",
      "| o | x | o |  \n"
     ]
    }
   ],
   "source": [
    "greetings()\n",
    "\n",
    "while True:\n",
    "    board = ['n/a',\" \", \" \", \" \", \" \", \" \", \" \", \" \", \" \", \" \"]\n",
    "    \n",
    "    \n",
    "    p1_symbol, p2_symbol = choose_symbol()\n",
    "    \n",
    "    \n",
    "    player = choose_player()\n",
    "    print(f\"{player} will enter to choose his desired position!!!\")\n",
    "    \n",
    "\n",
    "    game_on = play_game()\n",
    "        \n",
    "        \n",
    "    while game_on:\n",
    "        clear_output()\n",
    "        \n",
    "        if player == 'Player 1':\n",
    "            \n",
    "            result = take_input_and_update(board, p1_symbol, player)\n",
    "            \n",
    "            player, game_on = change_player(result, player, game_on )\n",
    "\n",
    "                    \n",
    "                    \n",
    "        else:           # for player 2\n",
    "            \n",
    "            result = take_input_and_update(board, p2_symbol, player)\n",
    "            \n",
    "            player, game_on = change_player(result, player, game_on )\n",
    "\n",
    "          \n",
    "            \n",
    "    if not replay_game():\n",
    "        clear_output()\n",
    "        print('Thank you for playing!')\n",
    "        break"
   ]
  },
  {
   "cell_type": "markdown",
   "id": "fa1a0f72",
   "metadata": {},
   "source": [
    "## "
   ]
  }
 ],
 "metadata": {
  "kernelspec": {
   "display_name": "Python 3 (ipykernel)",
   "language": "python",
   "name": "python3"
  },
  "language_info": {
   "codemirror_mode": {
    "name": "ipython",
    "version": 3
   },
   "file_extension": ".py",
   "mimetype": "text/x-python",
   "name": "python",
   "nbconvert_exporter": "python",
   "pygments_lexer": "ipython3",
   "version": "3.9.7"
  },
  "varInspector": {
   "cols": {
    "lenName": 16,
    "lenType": 16,
    "lenVar": 40
   },
   "kernels_config": {
    "python": {
     "delete_cmd_postfix": "",
     "delete_cmd_prefix": "del ",
     "library": "var_list.py",
     "varRefreshCmd": "print(var_dic_list())"
    },
    "r": {
     "delete_cmd_postfix": ") ",
     "delete_cmd_prefix": "rm(",
     "library": "var_list.r",
     "varRefreshCmd": "cat(var_dic_list()) "
    }
   },
   "types_to_exclude": [
    "module",
    "function",
    "builtin_function_or_method",
    "instance",
    "_Feature"
   ],
   "window_display": false
  }
 },
 "nbformat": 4,
 "nbformat_minor": 5
}
